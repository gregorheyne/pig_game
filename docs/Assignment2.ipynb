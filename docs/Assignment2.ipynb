{
 "cells": [
  {
   "cell_type": "markdown",
   "metadata": {
    "deletable": false,
    "editable": false,
    "nbgrader": {
     "cell_type": "markdown",
     "checksum": "3996977e7d68ec12f2c9ffcfe5ce214b",
     "grade": false,
     "grade_id": "cell-649fd0b1aa7ccb0f",
     "locked": true,
     "schema_version": 3,
     "solution": false
    }
   },
   "source": [
    "# Assignment 2: Optimal Policies with Dynamic Programming\n",
    "\n",
    "Welcome to Assignment 2. This notebook will help you understand:\n",
    "- Policy Evaluation and Policy Improvement.\n",
    "- Value and Policy Iteration.\n",
    "- Bellman Equations."
   ]
  },
  {
   "cell_type": "markdown",
   "metadata": {
    "deletable": false,
    "editable": false,
    "nbgrader": {
     "cell_type": "markdown",
     "checksum": "20729884a9ceb3804a03589ce5938a2d",
     "grade": false,
     "grade_id": "cell-9aafac39a58eeca4",
     "locked": true,
     "schema_version": 3,
     "solution": false
    }
   },
   "source": [
    "## Gridworld City\n",
    "\n",
    "Gridworld City, a thriving metropolis with a booming technology industry, has recently experienced an influx of grid-loving software engineers. Unfortunately, the city's street parking system, which charges a fixed rate, is struggling to keep up with the increased demand. To address this, the city council has decided to modify the pricing scheme to better promote social welfare. In general, the city considers social welfare higher when more parking is being used, the exception being that the city prefers that at least one spot is left unoccupied (so that it is available in case someone really needs it). The city council has created a Markov decision process (MDP) to model the demand for parking with a reward function that reflects its preferences. Now the city has hired you &mdash; an expert in dynamic programming &mdash; to help determine an optimal policy."
   ]
  },
  {
   "cell_type": "markdown",
   "metadata": {
    "deletable": false,
    "editable": false,
    "nbgrader": {
     "cell_type": "markdown",
     "checksum": "77a7b97ee700b6ce77ed26bd22749e80",
     "grade": false,
     "grade_id": "cell-28ccff8d1e663850",
     "locked": true,
     "schema_version": 3,
     "solution": false
    }
   },
   "source": [
    "## Preliminaries\n",
    "You'll need two imports to complete this assigment:\n",
    "- numpy: The fundamental package for scientific computing with Python.\n",
    "- tools: A module containing an environment and a plotting function.\n",
    "\n",
    "There are also some other lines in the cell below that are used for grading and plotting &mdash; you needn't worry about them.\n",
    "\n",
    "In this notebook, all cells are locked except those that you are explicitly asked to modify. It is up to you to decide how to implement your solution in these cells, **but please do not import other libraries** &mdash; doing so will break the autograder."
   ]
  },
  {
   "cell_type": "code",
   "execution_count": 13,
   "metadata": {
    "deletable": false,
    "editable": false,
    "nbgrader": {
     "cell_type": "code",
     "checksum": "2b5347a2a22c1bacff0c0453119c8d84",
     "grade": false,
     "grade_id": "cell-c11ff54faaf3fd89",
     "locked": true,
     "schema_version": 3,
     "solution": false
    }
   },
   "outputs": [],
   "source": [
    "%matplotlib inline\n",
    "import numpy as np\n",
    "import tools\n",
    "import grader"
   ]
  },
  {
   "cell_type": "markdown",
   "metadata": {
    "deletable": false,
    "editable": false,
    "nbgrader": {
     "cell_type": "markdown",
     "checksum": "596fffc2a1391897952fcabe2a8db930",
     "grade": false,
     "grade_id": "cell-4c7c5c4373be59ff",
     "locked": true,
     "schema_version": 3,
     "solution": false
    }
   },
   "source": [
    "In the city council's parking MDP, states are nonnegative integers indicating how many parking spaces are occupied, actions are nonnegative integers designating the price of street parking, the reward is a real value describing the city's preference for the situation, and time is discretized by hour. As might be expected, charging a high price is likely to decrease occupancy over the hour, while charging a low price is likely to increase it.\n",
    "\n",
    "For now, let's consider an environment with three parking spaces and three price points. Note that an environment with three parking spaces actually has four states &mdash; zero, one, two, or three spaces could be occupied."
   ]
  },
  {
   "cell_type": "code",
   "execution_count": 14,
   "metadata": {
    "deletable": false,
    "editable": false,
    "nbgrader": {
     "cell_type": "code",
     "checksum": "4f51ef4bc98021f90e701f76ed48f676",
     "grade": false,
     "grade_id": "cell-d25d06a8bafc4c26",
     "locked": true,
     "schema_version": 3,
     "solution": false
    }
   },
   "outputs": [],
   "source": [
    "# ---------------\n",
    "# Discussion Cell\n",
    "# ---------------\n",
    "num_spaces = 3\n",
    "num_prices = 3\n",
    "env = tools.ParkingWorld(num_spaces, num_prices)\n",
    "V = np.zeros(num_spaces + 1)\n",
    "pi = np.ones((num_spaces + 1, num_prices)) / num_prices"
   ]
  },
  {
   "cell_type": "markdown",
   "metadata": {
    "deletable": false,
    "editable": false,
    "nbgrader": {
     "cell_type": "markdown",
     "checksum": "0813b0f481e1f2f90e12f38456781410",
     "grade": false,
     "grade_id": "cell-57212e031233c500",
     "locked": true,
     "schema_version": 3,
     "solution": false
    }
   },
   "source": [
    "The value function is a one-dimensional array where the $i$-th entry gives the value of $i$ spaces being occupied."
   ]
  },
  {
   "cell_type": "code",
   "execution_count": 15,
   "metadata": {
    "deletable": false,
    "editable": false,
    "nbgrader": {
     "cell_type": "code",
     "checksum": "6e59c4a32939d9211dfc0f8fdd939780",
     "grade": false,
     "grade_id": "cell-c5f693a5ff49a888",
     "locked": true,
     "schema_version": 3,
     "solution": false
    }
   },
   "outputs": [
    {
     "data": {
      "text/plain": [
       "array([0., 0., 0., 0.])"
      ]
     },
     "execution_count": 15,
     "metadata": {},
     "output_type": "execute_result"
    }
   ],
   "source": [
    "V"
   ]
  },
  {
   "cell_type": "markdown",
   "metadata": {
    "deletable": false,
    "editable": false,
    "nbgrader": {
     "cell_type": "markdown",
     "checksum": "eadfa7b22b07f8c457cf09a78eb23c8c",
     "grade": false,
     "grade_id": "cell-57154206afc97770",
     "locked": true,
     "schema_version": 3,
     "solution": false
    }
   },
   "source": [
    "We can represent the policy as a two-dimensional array where the $(i, j)$-th entry gives the probability of taking action $j$ in state $i$."
   ]
  },
  {
   "cell_type": "code",
   "execution_count": 16,
   "metadata": {
    "deletable": false,
    "editable": false,
    "nbgrader": {
     "cell_type": "code",
     "checksum": "d732d93b6545408fa819526c2e52a0cf",
     "grade": false,
     "grade_id": "cell-85c017bb1e6fe4df",
     "locked": true,
     "schema_version": 3,
     "solution": false
    }
   },
   "outputs": [
    {
     "name": "stdout",
     "output_type": "stream",
     "text": [
      "[[0.33333333 0.33333333 0.33333333]\n",
      " [0.33333333 0.33333333 0.33333333]\n",
      " [0.33333333 0.33333333 0.33333333]\n",
      " [0.33333333 0.33333333 0.33333333]]\n"
     ]
    }
   ],
   "source": [
    "print(pi)"
   ]
  },
  {
   "cell_type": "code",
   "execution_count": 5,
   "metadata": {
    "deletable": false,
    "editable": false,
    "nbgrader": {
     "cell_type": "code",
     "checksum": "96d9ee84404cf38466f1c8c93b4aca9a",
     "grade": false,
     "grade_id": "cell-d7d514ba81bc686c",
     "locked": true,
     "schema_version": 3,
     "solution": false
    }
   },
   "outputs": [
    {
     "name": "stdout",
     "output_type": "stream",
     "text": [
      "[0.75 0.11 0.14]\n",
      "pi(A=0|S=0) = 0.75    pi(A=1|S=0) = 0.11    pi(A=2|S=0) = 0.14    \n",
      "[0.33333333 0.33333333 0.33333333]\n",
      "pi(A=0|S=1) = 0.33    pi(A=1|S=1) = 0.33    pi(A=2|S=1) = 0.33    \n",
      "[0.33333333 0.33333333 0.33333333]\n",
      "pi(A=0|S=2) = 0.33    pi(A=1|S=2) = 0.33    pi(A=2|S=2) = 0.33    \n",
      "[0.33333333 0.33333333 0.33333333]\n",
      "pi(A=0|S=3) = 0.33    pi(A=1|S=3) = 0.33    pi(A=2|S=3) = 0.33    \n"
     ]
    }
   ],
   "source": [
    "pi[0] = [0.75, 0.11, 0.14]\n",
    "\n",
    "for s, pi_s in enumerate(pi):\n",
    "    print(pi_s)\n",
    "    for a, p in enumerate(pi_s):\n",
    "        print(f'pi(A={a}|S={s}) = {p.round(2)}    ', end='')\n",
    "    print()"
   ]
  },
  {
   "cell_type": "code",
   "execution_count": 6,
   "metadata": {
    "deletable": false,
    "editable": false,
    "nbgrader": {
     "cell_type": "code",
     "checksum": "faf7aa91a9f54e17835b6e5c3e28b4bf",
     "grade": false,
     "grade_id": "cell-46b46b0dc80c68c7",
     "locked": true,
     "schema_version": 3,
     "solution": false
    }
   },
   "outputs": [
    {
     "data": {
      "image/png": "[encoded data removed]",
      "text/plain": [
       "<Figure size 900x360 with 3 Axes>"
      ]
     },
     "metadata": {},
     "output_type": "display_data"
    }
   ],
   "source": [
    "V[0] = 1\n",
    "\n",
    "tools.plot(V, pi)"
   ]
  },
  {
   "cell_type": "markdown",
   "metadata": {
    "deletable": false,
    "editable": false,
    "nbgrader": {
     "cell_type": "markdown",
     "checksum": "4f450ea0212f959d952e9b0272e57cf3",
     "grade": false,
     "grade_id": "cell-ce3ac9318671059d",
     "locked": true,
     "schema_version": 3,
     "solution": false
    }
   },
   "source": [
    "We can visualize a value function and policy with the `plot` function in the `tools` module. On the left, the value function is displayed as a barplot. State zero has an expected return of ten, while the other states have an expected return of zero. On the right, the policy is displayed on a two-dimensional grid. Each vertical strip gives the policy at the labeled state. In state zero, action zero is the darkest because the agent's policy makes this choice with the highest probability. In the other states the agent has the equiprobable policy, so the vertical strips are colored uniformly."
   ]
  },
  {
   "cell_type": "markdown",
   "metadata": {
    "deletable": false,
    "editable": false,
    "nbgrader": {
     "cell_type": "markdown",
     "checksum": "049e3d7344e203034323e1f86a503ee4",
     "grade": false,
     "grade_id": "cell-3975c91dbe24e9e8",
     "locked": true,
     "schema_version": 3,
     "solution": false
    }
   },
   "source": [
    "You can access the state space and the action set as attributes of the environment."
   ]
  },
  {
   "cell_type": "code",
   "execution_count": 17,
   "metadata": {
    "deletable": false,
    "editable": false,
    "nbgrader": {
     "cell_type": "code",
     "checksum": "4fafc756424773278069199ff876300e",
     "grade": false,
     "grade_id": "cell-94d868709c1a9eba",
     "locked": true,
     "schema_version": 3,
     "solution": false
    }
   },
   "outputs": [
    {
     "name": "stdout",
     "output_type": "stream",
     "text": [
      "[0, 1, 2, 3]\n",
      "[0, 1, 2]\n"
     ]
    }
   ],
   "source": [
    "print(env.S)\n",
    "print(env.A)"
   ]
  },
  {
   "cell_type": "markdown",
   "metadata": {
    "deletable": false,
    "editable": false,
    "nbgrader": {
     "cell_type": "markdown",
     "checksum": "12e6b88d7cf8ec6d20c7e14e3d43b5e2",
     "grade": false,
     "grade_id": "cell-927e52efe516a816",
     "locked": true,
     "schema_version": 3,
     "solution": false
    }
   },
   "source": [
    "You will need to use the environment's `transitions` method to complete this assignment. The method takes a state and an action and returns a 2-dimensional array, where the entry at $(i, 0)$ is the reward for transitioning to state $i$ from the current state and the entry at $(i, 1)$ is the conditional probability of transitioning to state $i$ given the current state and action."
   ]
  },
  {
   "cell_type": "code",
   "execution_count": 18,
   "metadata": {
    "deletable": false,
    "editable": false,
    "nbgrader": {
     "cell_type": "code",
     "checksum": "4d32e329bafe53f2061e6b577751f291",
     "grade": false,
     "grade_id": "cell-4185982b1a21cd04",
     "locked": true,
     "schema_version": 3,
     "solution": false
    }
   },
   "outputs": [
    {
     "data": {
      "text/plain": [
       "array([[1.        , 0.12390437],\n",
       "       [2.        , 0.15133714],\n",
       "       [3.        , 0.1848436 ],\n",
       "       [2.        , 0.53991488]])"
      ]
     },
     "execution_count": 18,
     "metadata": {},
     "output_type": "execute_result"
    }
   ],
   "source": [
    "state = 3\n",
    "action = 1\n",
    "transitions = env.transitions(state, action)\n",
    "transitions"
   ]
  },
  {
   "cell_type": "code",
   "execution_count": 9,
   "metadata": {
    "deletable": false,
    "editable": false,
    "nbgrader": {
     "cell_type": "code",
     "checksum": "25cbea37d8b8c6404081852743cbc6bd",
     "grade": false,
     "grade_id": "cell-379fdb797cae3afb",
     "locked": true,
     "schema_version": 3,
     "solution": false
    }
   },
   "outputs": [
    {
     "name": "stdout",
     "output_type": "stream",
     "text": [
      "p(S'=0, R=1.0 | S=3, A=1) = 0.12\n",
      "p(S'=1, R=2.0 | S=3, A=1) = 0.15\n",
      "p(S'=2, R=3.0 | S=3, A=1) = 0.18\n",
      "p(S'=3, R=2.0 | S=3, A=1) = 0.54\n"
     ]
    }
   ],
   "source": [
    "for sp, (r, p) in enumerate(transitions):\n",
    "    print(f'p(S\\'={sp}, R={r} | S={state}, A={action}) = {p.round(2)}')"
   ]
  },
  {
   "cell_type": "code",
   "execution_count": 10,
   "metadata": {},
   "outputs": [
    {
     "name": "stdout",
     "output_type": "stream",
     "text": [
      "[0, 1, 2, 3]\n",
      "[0, 1, 2]\n"
     ]
    }
   ],
   "source": [
    "print(env._ParkingWorld__S)\n",
    "print(env._ParkingWorld__A)"
   ]
  },
  {
   "cell_type": "code",
   "execution_count": 11,
   "metadata": {},
   "outputs": [
    {
     "data": {
      "text/plain": [
       "3"
      ]
     },
     "execution_count": 11,
     "metadata": {},
     "output_type": "execute_result"
    }
   ],
   "source": [
    "env._ParkingWorld__num_prices"
   ]
  },
  {
   "cell_type": "code",
   "execution_count": 12,
   "metadata": {},
   "outputs": [
    {
     "name": "stdout",
     "output_type": "stream",
     "text": [
      "[(0, 1.0), (1, 2.0), (2, 3.0), (3, 2.0)]\n",
      "[0, 1, 2]\n",
      "3\n",
      "3\n",
      "[0, 1, 2, 3]\n"
     ]
    }
   ],
   "source": [
    "print(env.support(s=3, a=1))\n",
    "print(env.A)\n",
    "print(env.num_spaces)\n",
    "print(env.num_prices)\n",
    "print(env.S)"
   ]
  },
  {
   "cell_type": "markdown",
   "metadata": {
    "deletable": false,
    "editable": false,
    "nbgrader": {
     "cell_type": "markdown",
     "checksum": "0869f6736a9ab680b0c82dccf72ba11c",
     "grade": false,
     "grade_id": "cell-141d4e3806427283",
     "locked": true,
     "schema_version": 3,
     "solution": false
    }
   },
   "source": [
    "## Section 1: Policy Evaluation\n",
    "\n",
    "You're now ready to begin the assignment! First, the city council would like you to evaluate the quality of the existing pricing scheme. Policy evaluation works by iteratively applying the Bellman equation for $v_{\\pi}$ to a working value function, as an update rule, as shown below.\n",
    "\n",
    "$$\\large v(s) \\leftarrow \\sum_a \\pi(a | s) \\sum_{s', r} p(s', r | s, a)[r + \\gamma v(s')]$$\n",
    "This update can either occur \"in-place\" (i.e. the update rule is sequentially applied to each state) or with \"two-arrays\" (i.e. the update rule is simultaneously applied to each state). Both versions converge to $v_{\\pi}$ but the in-place version usually converges faster. **In this assignment, we will be implementing all update rules in-place**, as is done in the pseudocode of chapter 4 of the textbook. \n",
    "\n",
    "We have written an outline of the policy evaluation algorithm described in chapter 4.1 of the textbook. It is left to you to fill in the `bellman_update` function to complete the algorithm."
   ]
  },
  {
   "cell_type": "code",
   "execution_count": 10,
   "metadata": {
    "deletable": false,
    "editable": false,
    "nbgrader": {
     "cell_type": "code",
     "checksum": "d940b556433954baa2dfa76c55918ca1",
     "grade": false,
     "grade_id": "cell-8d04cf6f6f397e17",
     "locked": true,
     "schema_version": 3,
     "solution": false
    }
   },
   "outputs": [],
   "source": [
    "# lock\n",
    "def evaluate_policy(env, V, pi, gamma, theta):\n",
    "    delta = float('inf')\n",
    "    while delta > theta:\n",
    "        delta = 0\n",
    "        for s in env.S:\n",
    "            v = V[s]\n",
    "            bellman_update(env, V, pi, s, gamma)\n",
    "            delta = max(delta, abs(v - V[s]))\n",
    "            \n",
    "    return V"
   ]
  },
  {
   "cell_type": "code",
   "execution_count": 16,
   "metadata": {
    "deletable": false,
    "nbgrader": {
     "cell_type": "code",
     "checksum": "3d9220b9c5e2dad29041be432e1898de",
     "grade": false,
     "grade_id": "cell-4113388a5f8401b6",
     "locked": false,
     "schema_version": 3,
     "solution": true
    }
   },
   "outputs": [],
   "source": [
    "# -----------\n",
    "# Graded Cell\n",
    "# -----------\n",
    "def bellman_update(env, V, pi, s, gamma):\n",
    "    \"\"\"Mutate ``V`` according to the Bellman update equation.\"\"\"\n",
    "    # YOUR CODE HERE\n",
    "    # raise NotImplementedError()\n",
    "    v_new = 0\n",
    "    for a in env.A:\n",
    "        transitions = env.transitions(s, a)\n",
    "        for sp, (r, p) in enumerate(transitions):\n",
    "            v_new += pi[s, a] * p * (r + gamma * V[sp])\n",
    "    V[s] = v_new"
   ]
  },
  {
   "cell_type": "markdown",
   "metadata": {
    "deletable": false,
    "editable": false,
    "nbgrader": {
     "cell_type": "markdown",
     "checksum": "4d9639225bc3d57f1079ceab1d57d411",
     "grade": false,
     "grade_id": "cell-5c1f3ff4b0e1b0bf",
     "locked": true,
     "schema_version": 3,
     "solution": false
    }
   },
   "source": [
    "The cell below uses the policy evaluation algorithm to evaluate the city's policy, which charges a constant price of one."
   ]
  },
  {
   "cell_type": "code",
   "execution_count": 31,
   "metadata": {},
   "outputs": [
    {
     "name": "stdout",
     "output_type": "stream",
     "text": [
      "0 :  0.0\n",
      "1 :  1.0\n",
      "2 :  2.0\n",
      "3 :  3.0\n",
      "4 :  4.0\n",
      "5 :  5.0\n",
      "6 :  6.0\n",
      "7 :  7.0\n",
      "8 :  8.0\n",
      "9 :  9.0\n",
      "10 :  3.333333333333333\n",
      "[80.04173399 81.65532303 83.37394007 85.12975566 86.87174913 88.55589131\n",
      " 90.14020422 91.58180605 92.81929841 93.78915889 87.77792991]\n"
     ]
    }
   ],
   "source": [
    "# --------------\n",
    "# Debugging Cell\n",
    "# --------------\n",
    "# Feel free to make any changes to this cell to debug your code\n",
    "\n",
    "# set up test environment\n",
    "num_spaces = 10\n",
    "num_prices = 4\n",
    "env = tools.ParkingWorld(num_spaces, num_prices)\n",
    "\n",
    "# build test policy\n",
    "city_policy = np.zeros((num_spaces + 1, num_prices))\n",
    "city_policy[:, 1] = 1\n",
    "\n",
    "gamma = 0.9\n",
    "theta = 0.1\n",
    "\n",
    "for s in env.S:\n",
    "    print(s, ': ', env.state_reward(s))\n",
    "\n",
    "\n",
    "V = np.zeros(num_spaces + 1)\n",
    "V = evaluate_policy(env, V, city_policy, gamma, theta)\n",
    "print(V)"
   ]
  },
  {
   "cell_type": "code",
   "execution_count": 23,
   "metadata": {
    "deletable": false,
    "editable": false,
    "nbgrader": {
     "cell_type": "code",
     "checksum": "fe42a26382eb7ed41954597ed701513c",
     "grade": true,
     "grade_id": "cell-104d8ba132c36b33",
     "locked": true,
     "points": 10,
     "schema_version": 3,
     "solution": false,
     "task": false
    }
   },
   "outputs": [],
   "source": [
    "# -----------\n",
    "# Tested Cell\n",
    "# -----------\n",
    "# The contents of the cell will be tested by the autograder.\n",
    "# If they do not pass here, they will not pass there.\n",
    "\n",
    "# set up test environment\n",
    "num_spaces = 10\n",
    "num_prices = 4\n",
    "env = tools.ParkingWorld(num_spaces, num_prices)\n",
    "\n",
    "# build test policy\n",
    "city_policy = np.zeros((num_spaces + 1, num_prices))\n",
    "city_policy[:, 1] = 1\n",
    "\n",
    "gamma = 0.9\n",
    "theta = 0.1\n",
    "\n",
    "V = np.zeros(num_spaces + 1)\n",
    "V = evaluate_policy(env, V, city_policy, gamma, theta)\n",
    "\n",
    "# test the value function\n",
    "answer = [80.04, 81.65, 83.37, 85.12, 86.87, 88.55, 90.14, 91.58, 92.81, 93.78, 87.77]\n",
    "\n",
    "# make sure the value function is within 2 decimal places of the correct answer\n",
    "assert grader.near(V, answer, 1e-2)"
   ]
  },
  {
   "cell_type": "markdown",
   "metadata": {
    "deletable": false,
    "editable": false,
    "nbgrader": {
     "cell_type": "markdown",
     "checksum": "0f19b2dc70097c6425bbc3bd25a2a500",
     "grade": false,
     "grade_id": "cell-b612ffe570dd7e29",
     "locked": true,
     "schema_version": 3,
     "solution": false
    }
   },
   "source": [
    "You can use the ``plot`` function to visualize the final value function and policy."
   ]
  },
  {
   "cell_type": "code",
   "execution_count": 24,
   "metadata": {
    "deletable": false,
    "editable": false,
    "nbgrader": {
     "cell_type": "code",
     "checksum": "ff7b2798b5af88f6444a49099599a06a",
     "grade": false,
     "grade_id": "cell-fe5cf61a03a028fc",
     "locked": true,
     "schema_version": 3,
     "solution": false
    }
   },
   "outputs": [
    {
     "data": {
      "image/png": "[encoded data removed]",
      "text/plain": [
       "<Figure size 900x360 with 3 Axes>"
      ]
     },
     "metadata": {},
     "output_type": "display_data"
    }
   ],
   "source": [
    "# lock\n",
    "tools.plot(V, city_policy)"
   ]
  },
  {
   "cell_type": "markdown",
   "metadata": {
    "deletable": false,
    "editable": false,
    "nbgrader": {
     "cell_type": "markdown",
     "checksum": "387eb9f1789b50daaa10e3503117525c",
     "grade": false,
     "grade_id": "cell-7dbb5974798259f7",
     "locked": true,
     "schema_version": 3,
     "solution": false
    }
   },
   "source": [
    "Observe that the value function qualitatively resembles the city council's preferences &mdash; it monotonically increases as more parking is used, until there is no parking left, in which case the value is lower. Because of the relatively simple reward function (more reward is accrued when many but not all parking spots are taken and less reward is accrued when few or all parking spots are taken) and the highly stochastic dynamics function (each state has positive probability of being reached each time step) the value functions of most policies will qualitatively resemble this graph. However, depending on the intelligence of the policy, the scale of the graph will differ. In other words, better policies will increase the expected return at every state rather than changing the relative desirability of the states. Intuitively, the value of a less desirable state can be increased by making it less likely to remain in a less desirable state. Similarly, the value of a more desirable state can be increased by making it more likely to remain in a more desirable state. That is to say, good policies are policies that spend more time in desirable states and less time in undesirable states. As we will see in this assignment, such a steady state distribution is achieved by setting the price to be low in low occupancy states (so that the occupancy will increase) and setting the price high when occupancy is high (so that full occupancy will be avoided)."
   ]
  },
  {
   "cell_type": "markdown",
   "metadata": {
    "deletable": false,
    "editable": false,
    "nbgrader": {
     "cell_type": "markdown",
     "checksum": "f0d6665789065c7bfa797664e0f43c8c",
     "grade": false,
     "grade_id": "cell-45d6a1c8f905e939",
     "locked": true,
     "schema_version": 3,
     "solution": false
    }
   },
   "source": [
    "## Section 2: Policy Iteration\n",
    "Now the city council would like you to compute a more efficient policy using policy iteration. Policy iteration works by alternating between evaluating the existing policy and making the policy greedy with respect to the existing value function. We have written an outline of the policy iteration algorithm described in chapter 4.3 of the textbook. We will make use of the policy evaluation algorithm you completed in section 1. It is left to you to fill in the `q_greedify_policy` function, such that it modifies the policy at $s$ to be greedy with respect to the q-values at $s$, to complete the policy improvement algorithm."
   ]
  },
  {
   "cell_type": "code",
   "execution_count": 52,
   "metadata": {
    "deletable": false,
    "editable": false,
    "nbgrader": {
     "cell_type": "code",
     "checksum": "cd767646e891985960e2d9c9b3b76ae1",
     "grade": false,
     "grade_id": "cell-15ec36bbf7a6fdc6",
     "locked": true,
     "schema_version": 3,
     "solution": false
    }
   },
   "outputs": [],
   "source": [
    "def improve_policy(env, V, pi, gamma):\n",
    "    policy_stable = True\n",
    "    for s in env.S:\n",
    "        old = pi[s].copy()\n",
    "        q_greedify_policy(env, V, pi, s, gamma)\n",
    "        \n",
    "        if not np.array_equal(pi[s], old):\n",
    "            policy_stable = False\n",
    "            \n",
    "    return pi, policy_stable\n",
    "\n",
    "def policy_iteration(env, gamma, theta):\n",
    "    V = np.zeros(len(env.S))\n",
    "    pi = np.ones((len(env.S), len(env.A))) / len(env.A)\n",
    "    policy_stable = False\n",
    "    \n",
    "    while not policy_stable:\n",
    "        V = evaluate_policy(env, V, pi, gamma, theta)\n",
    "        pi, policy_stable = improve_policy(env, V, pi, gamma)\n",
    "        \n",
    "    return V, pi"
   ]
  },
  {
   "cell_type": "code",
   "execution_count": 79,
   "metadata": {
    "deletable": false,
    "nbgrader": {
     "cell_type": "code",
     "checksum": "03f887ab5a215f3e89ba751895d7e9f8",
     "grade": false,
     "grade_id": "cell-43cadb209544e857",
     "locked": false,
     "schema_version": 3,
     "solution": true
    }
   },
   "outputs": [],
   "source": [
    "# -----------\n",
    "# Graded Cell\n",
    "# -----------\n",
    "def argmax(q_values):\n",
    "    \"\"\"\n",
    "    Takes in a list of q_values and returns the index of the item \n",
    "    with the highest value. Breaks ties randomly.\n",
    "    returns: int - the index of the highest value in q_values\n",
    "\n",
    "    (sourced from assigment one on k-armed bandits)\n",
    "    \"\"\"\n",
    "    top_value = float(\"-inf\")\n",
    "    ties = []\n",
    "    \n",
    "    for i in range(len(q_values)):\n",
    "        # if a value in q_values is greater than the highest value update top and reset ties to zero\n",
    "        # if a value is equal to top value add the index to ties\n",
    "        # return a random selection from ties.\n",
    "        # GH Solution starts here\n",
    "        if q_values[i] > top_value:\n",
    "            top_value = q_values[i]\n",
    "            ties = []\n",
    "\n",
    "        if q_values[i] == top_value:\n",
    "            ties.append(i)\n",
    "        # GH Solution ends here\n",
    "        # raise NotImplementedError()\n",
    "    return np.random.choice(ties)\n",
    "\n",
    "def q_greedify_policy(env, V, pi, s, gamma):\n",
    "    \"\"\"\n",
    "    Mutate ``pi`` to be greedy with respect to the q-values induced by ``V``.\n",
    "    \n",
    "    NOTE: can introduce this \"bug\" of switching between equally good policies,\n",
    "    since argmax breaks ties randomly! can be fixed simply by only picking a new action\n",
    "    if the q-value of the corresponding argmax is really higher than the previous highest q-value\n",
    "    \"\"\"\n",
    "    # YOUR CODE HERE\n",
    "    # raise NotImplementedError()\n",
    "    q_values = []\n",
    "    for a in env.A:\n",
    "        transitions = env.transitions(s, a)\n",
    "        q_value_a = 0\n",
    "        for sp, (r, p) in enumerate(transitions):\n",
    "            q_value_a += p * (r + gamma * V[sp])\n",
    "        q_values.append(q_value_a)\n",
    "    argmax_q_values = argmax(q_values)\n",
    "    # reset all probabilities of actions from s to probability 0\n",
    "    pi[s] = np.zeros(len(pi[s]))\n",
    "    # set action with highest q-value to probability 1\n",
    "    pi[s][argmax_q_values] = 1\n",
    "\n"
   ]
  },
  {
   "cell_type": "code",
   "execution_count": 80,
   "metadata": {},
   "outputs": [],
   "source": [
    "# --------------\n",
    "# Debugging Cell\n",
    "# --------------\n",
    "# Feel free to make any changes to this cell to debug your code\n",
    "\n",
    "gamma = 0.9\n",
    "theta = 0.1\n",
    "env = tools.ParkingWorld(num_spaces=6, num_prices=4)\n",
    "\n",
    "V = np.array([7, 6, 5, 4, 3, 2, 1])\n",
    "pi = np.ones((7, 4)) / 4\n",
    "\n",
    "# testing assignment: \n",
    "# s=1\n",
    "# argmax = 3\n",
    "# pi[s][3] = 5\n",
    "# print(pi)\n",
    "# pi[s] = np.zeros(len(pi[s]))\n",
    "# pi[s][argmax] = 1\n",
    "# print(pi)\n",
    "\n",
    "\n",
    "pi = np.ones((7, 4)) / 4\n",
    "new_pi, stable = improve_policy(env, V, pi, gamma)\n",
    "\n",
    "# expect first call to greedify policy\n",
    "expected_pi = np.array([\n",
    "    [0, 0, 0, 1],\n",
    "    [0, 0, 0, 1],\n",
    "    [0, 0, 0, 1],\n",
    "    [0, 0, 0, 1],\n",
    "    [0, 0, 0, 1],\n",
    "    [0, 0, 0, 1],\n",
    "    [0, 0, 0, 1],\n",
    "])\n",
    "assert np.all(new_pi == expected_pi)\n",
    "assert stable == False\n",
    "\n",
    "# the value function has not changed, so the greedy policy should not change\n",
    "new_pi, stable = improve_policy(env, V, new_pi, gamma)\n",
    "\n",
    "assert np.all(new_pi == expected_pi)\n",
    "assert stable == True"
   ]
  },
  {
   "cell_type": "code",
   "execution_count": 81,
   "metadata": {
    "deletable": false,
    "editable": false,
    "nbgrader": {
     "cell_type": "code",
     "checksum": "9b8b71edde57f8aab6356de9a38527e3",
     "grade": true,
     "grade_id": "cell-468eb92e69c7f65e",
     "locked": true,
     "points": 10,
     "schema_version": 3,
     "solution": false,
     "task": false
    }
   },
   "outputs": [],
   "source": [
    "# -----------\n",
    "# Tested Cell\n",
    "# -----------\n",
    "# The contents of the cell will be tested by the autograder.\n",
    "# If they do not pass here, they will not pass there.\n",
    "gamma = 0.9\n",
    "theta = 0.1\n",
    "env = tools.ParkingWorld(num_spaces=10, num_prices=4)\n",
    "\n",
    "V, pi = policy_iteration(env, gamma, theta)\n",
    "\n",
    "V_answer = [81.60, 83.28, 85.03, 86.79, 88.51, 90.16, 91.70, 93.08, 94.25, 95.25, 89.45]\n",
    "pi_answer = [\n",
    "    [1, 0, 0, 0],\n",
    "    [1, 0, 0, 0],\n",
    "    [1, 0, 0, 0],\n",
    "    [1, 0, 0, 0],\n",
    "    [1, 0, 0, 0],\n",
    "    [1, 0, 0, 0],\n",
    "    [1, 0, 0, 0],\n",
    "    [1, 0, 0, 0],\n",
    "    [1, 0, 0, 0],\n",
    "    [0, 0, 0, 1],\n",
    "    [0, 0, 0, 1],\n",
    "]\n",
    "\n",
    "# make sure value function is within 2 decimal places of answer\n",
    "assert grader.near(V, V_answer, 1e-2)\n",
    "# make sure policy is exactly correct\n",
    "assert np.all(pi == pi_answer)"
   ]
  },
  {
   "cell_type": "markdown",
   "metadata": {
    "deletable": false,
    "editable": false,
    "nbgrader": {
     "cell_type": "markdown",
     "checksum": "b70073346d140503e1572043f2be5c7e",
     "grade": false,
     "grade_id": "cell-d82e51ee8122647c",
     "locked": true,
     "schema_version": 3,
     "solution": false
    }
   },
   "source": [
    "When you are ready to test the policy iteration algorithm, run the cell below."
   ]
  },
  {
   "cell_type": "code",
   "execution_count": 82,
   "metadata": {
    "deletable": false,
    "editable": false,
    "nbgrader": {
     "cell_type": "code",
     "checksum": "aeedaa745e6dc30ebbc6b822c670c9b3",
     "grade": false,
     "grade_id": "cell-6939985ef9ad58a3",
     "locked": true,
     "schema_version": 3,
     "solution": false
    }
   },
   "outputs": [],
   "source": [
    "env = tools.ParkingWorld(num_spaces=10, num_prices=4)\n",
    "gamma = 0.9\n",
    "theta = 0.1\n",
    "V, pi = policy_iteration(env, gamma, theta)"
   ]
  },
  {
   "cell_type": "markdown",
   "metadata": {
    "deletable": false,
    "editable": false,
    "nbgrader": {
     "cell_type": "markdown",
     "checksum": "dcd619f8fcc010b6933b2bba4ce9f9e7",
     "grade": false,
     "grade_id": "cell-acd7f476ed298570",
     "locked": true,
     "schema_version": 3,
     "solution": false
    }
   },
   "source": [
    "You can use the ``plot`` function to visualize the final value function and policy."
   ]
  },
  {
   "cell_type": "code",
   "execution_count": 87,
   "metadata": {
    "deletable": false,
    "editable": false,
    "nbgrader": {
     "cell_type": "code",
     "checksum": "da17cf77a51f4fabd0ce3a93e2803af8",
     "grade": false,
     "grade_id": "cell-73a1da64ca84a151",
     "locked": true,
     "schema_version": 3,
     "solution": false
    }
   },
   "outputs": [
    {
     "data": {
      "image/png": "[encoded data removed]",
      "text/plain": [
       "<Figure size 900x360 with 3 Axes>"
      ]
     },
     "metadata": {},
     "output_type": "display_data"
    }
   ],
   "source": [
    "tools.plot(V, pi)"
   ]
  },
  {
   "cell_type": "markdown",
   "metadata": {
    "deletable": false,
    "editable": false,
    "nbgrader": {
     "cell_type": "markdown",
     "checksum": "0943d42dc7e60e40739b606700125da1",
     "grade": false,
     "grade_id": "cell-92139bf490757a44",
     "locked": true,
     "schema_version": 3,
     "solution": false
    }
   },
   "source": [
    "You can check the value function (rounded to one decimal place) and policy against the answer below:<br>\n",
    "State $\\quad\\quad$    Value $\\quad\\quad$ Action<br>\n",
    "0 $\\quad\\quad\\quad\\;$        81.6 $\\quad\\quad\\;$ 0<br>\n",
    "1 $\\quad\\quad\\quad\\;$        83.3 $\\quad\\quad\\;$ 0<br>\n",
    "2 $\\quad\\quad\\quad\\;$        85.0 $\\quad\\quad\\;$ 0<br>\n",
    "3 $\\quad\\quad\\quad\\;$        86.8 $\\quad\\quad\\;$ 0<br>\n",
    "4 $\\quad\\quad\\quad\\;$        88.5 $\\quad\\quad\\;$ 0<br>\n",
    "5 $\\quad\\quad\\quad\\;$        90.2 $\\quad\\quad\\;$ 0<br>\n",
    "6 $\\quad\\quad\\quad\\;$        91.7 $\\quad\\quad\\;$ 0<br>\n",
    "7 $\\quad\\quad\\quad\\;$        93.1 $\\quad\\quad\\;$ 0<br>\n",
    "8 $\\quad\\quad\\quad\\;$        94.3 $\\quad\\quad\\;$ 0<br>\n",
    "9 $\\quad\\quad\\quad\\;$        95.3 $\\quad\\quad\\;$ 3<br>\n",
    "10 $\\quad\\quad\\;\\;\\,\\,$      89.5 $\\quad\\quad\\;$ 3<br>"
   ]
  },
  {
   "cell_type": "markdown",
   "metadata": {
    "deletable": false,
    "editable": false,
    "nbgrader": {
     "cell_type": "markdown",
     "checksum": "e59b175ca7605a8002c2040043f7b1af",
     "grade": false,
     "grade_id": "cell-e7628124eafb2fc2",
     "locked": true,
     "schema_version": 3,
     "solution": false
    }
   },
   "source": [
    "## Section 3: Value Iteration\n",
    "The city has also heard about value iteration and would like you to implement it. Value iteration works by iteratively applying the Bellman optimality equation for $v_{\\ast}$ to a working value function, as an update rule, as shown below.\n",
    "\n",
    "$$\\large v(s) \\leftarrow \\max_a \\sum_{s', r} p(s', r | s, a)[r + \\gamma v(s')]$$\n",
    "We have written an outline of the value iteration algorithm described in chapter 4.4 of the textbook. It is left to you to fill in the `bellman_optimality_update` function to complete the value iteration algorithm."
   ]
  },
  {
   "cell_type": "code",
   "execution_count": 88,
   "metadata": {
    "deletable": false,
    "editable": false,
    "nbgrader": {
     "cell_type": "code",
     "checksum": "3743399285b929801497af405783d06e",
     "grade": false,
     "grade_id": "cell-75baf962376afa7c",
     "locked": true,
     "schema_version": 3,
     "solution": false
    }
   },
   "outputs": [],
   "source": [
    "def value_iteration(env, gamma, theta):\n",
    "    V = np.zeros(len(env.S))\n",
    "    while True:\n",
    "        delta = 0\n",
    "        for s in env.S:\n",
    "            v = V[s]\n",
    "            bellman_optimality_update(env, V, s, gamma)\n",
    "            delta = max(delta, abs(v - V[s]))\n",
    "        if delta < theta:\n",
    "            break\n",
    "    pi = np.ones((len(env.S), len(env.A))) / len(env.A)\n",
    "    for s in env.S:\n",
    "        q_greedify_policy(env, V, pi, s, gamma)\n",
    "    return V, pi"
   ]
  },
  {
   "cell_type": "code",
   "execution_count": 107,
   "metadata": {
    "deletable": false,
    "nbgrader": {
     "cell_type": "code",
     "checksum": "5b8c52e5f66f45467b7f7262fc98e89b",
     "grade": false,
     "grade_id": "cell-f2c6a183cc0923fb",
     "locked": false,
     "schema_version": 3,
     "solution": true
    }
   },
   "outputs": [],
   "source": [
    "# -----------\n",
    "# Graded Cell\n",
    "# -----------\n",
    "def bellman_optimality_update(env, V, s, gamma):\n",
    "    \"\"\"Mutate ``V`` according to the Bellman optimality update equation.\"\"\"\n",
    "    # YOUR CODE HERE\n",
    "    # raise NotImplementedError()\n",
    "    q_values_max = float(\"-inf\")\n",
    "    for a in env.A:\n",
    "        transitions = env.transitions(s, a)\n",
    "        q_value_a = 0\n",
    "        for sp, (r, p) in enumerate(transitions):\n",
    "            q_value_a += p * (r + gamma * V[sp])\n",
    "        if q_value_a >= q_values_max:\n",
    "            q_values_max = q_value_a\n",
    "    V[s] = q_values_max"
   ]
  },
  {
   "cell_type": "code",
   "execution_count": 108,
   "metadata": {},
   "outputs": [],
   "source": [
    "# --------------\n",
    "# Debugging Cell\n",
    "# --------------\n",
    "# Feel free to make any changes to this cell to debug your code\n",
    "\n",
    "gamma = 0.9\n",
    "env = tools.ParkingWorld(num_spaces=6, num_prices=4)\n",
    "\n",
    "V = np.array([7, 6, 5, 4, 3, 2, 1])\n",
    "\n",
    "# only state 0 updated\n",
    "bellman_optimality_update(env, V, 0, gamma)\n",
    "assert list(V) == [5, 6, 5, 4, 3, 2, 1]\n",
    "\n",
    "# only state 2 updated\n",
    "bellman_optimality_update(env, V, 2, gamma)\n",
    "assert list(V) == [5, 6, 7, 4, 3, 2, 1]"
   ]
  },
  {
   "cell_type": "code",
   "execution_count": 110,
   "metadata": {
    "deletable": false,
    "editable": false,
    "nbgrader": {
     "cell_type": "code",
     "checksum": "bdcf2724450c1e103db4ded3ade9a97b",
     "grade": true,
     "grade_id": "cell-92e457ed985823c3",
     "locked": true,
     "points": 10,
     "schema_version": 3,
     "solution": false,
     "task": false
    }
   },
   "outputs": [],
   "source": [
    "# -----------\n",
    "# Tested Cell\n",
    "# -----------\n",
    "# The contents of the cell will be tested by the autograder.\n",
    "# If they do not pass here, they will not pass there.\n",
    "gamma = 0.9\n",
    "env = tools.ParkingWorld(num_spaces=10, num_prices=4)\n",
    "\n",
    "V = np.array([1, 2, 3, 4, 5, 6, 7, 8, 9, 10, 11])\n",
    "\n",
    "for _ in range(10):\n",
    "    for s in env.S:\n",
    "        bellman_optimality_update(env, V, s, gamma)\n",
    "\n",
    "# make sure value function is exactly correct\n",
    "answer = [61, 63, 65, 67, 69, 71, 72, 74, 75, 76, 71]\n",
    "assert np.all(V == answer)"
   ]
  },
  {
   "cell_type": "markdown",
   "metadata": {
    "deletable": false,
    "editable": false,
    "nbgrader": {
     "cell_type": "markdown",
     "checksum": "c5020582c7de3757fa3ece73983b61d9",
     "grade": false,
     "grade_id": "cell-d472d58e936b371e",
     "locked": true,
     "schema_version": 3,
     "solution": false
    }
   },
   "source": [
    "When you are ready to test the value iteration algorithm, run the cell below."
   ]
  },
  {
   "cell_type": "code",
   "execution_count": 111,
   "metadata": {
    "deletable": false,
    "editable": false,
    "nbgrader": {
     "cell_type": "code",
     "checksum": "cd8be31ddef5580d095a7e861e52a479",
     "grade": false,
     "grade_id": "cell-f609be2c58adc3e2",
     "locked": true,
     "schema_version": 3,
     "solution": false
    }
   },
   "outputs": [],
   "source": [
    "env = tools.ParkingWorld(num_spaces=10, num_prices=4)\n",
    "gamma = 0.9\n",
    "theta = 0.1\n",
    "V, pi = value_iteration(env, gamma, theta)"
   ]
  },
  {
   "cell_type": "markdown",
   "metadata": {
    "deletable": false,
    "editable": false,
    "nbgrader": {
     "cell_type": "markdown",
     "checksum": "8c88ac444253a80a377a7dce46e0c606",
     "grade": false,
     "grade_id": "cell-cba784b8d158758b",
     "locked": true,
     "schema_version": 3,
     "solution": false
    }
   },
   "source": [
    "You can use the ``plot`` function to visualize the final value function and policy."
   ]
  },
  {
   "cell_type": "code",
   "execution_count": 112,
   "metadata": {
    "deletable": false,
    "editable": false,
    "nbgrader": {
     "cell_type": "code",
     "checksum": "d18a2592a3bac43de72e18cb54357ac9",
     "grade": false,
     "grade_id": "cell-086e26bfb519a017",
     "locked": true,
     "schema_version": 3,
     "solution": false
    }
   },
   "outputs": [
    {
     "data": {
      "image/png": "[encoded data removed]",
      "text/plain": [
       "<Figure size 900x360 with 3 Axes>"
      ]
     },
     "metadata": {},
     "output_type": "display_data"
    }
   ],
   "source": [
    "tools.plot(V, pi)"
   ]
  },
  {
   "cell_type": "markdown",
   "metadata": {
    "deletable": false,
    "editable": false,
    "nbgrader": {
     "cell_type": "markdown",
     "checksum": "f7ee7bba538aa9300cd636c99403fd72",
     "grade": false,
     "grade_id": "cell-066f9bbdc057115b",
     "locked": true,
     "schema_version": 3,
     "solution": false
    }
   },
   "source": [
    "You can check your value function (rounded to one decimal place) and policy against the answer below:<br>\n",
    "State $\\quad\\quad$    Value $\\quad\\quad$ Action<br>\n",
    "0 $\\quad\\quad\\quad\\;$        81.6 $\\quad\\quad\\;$ 0<br>\n",
    "1 $\\quad\\quad\\quad\\;$        83.3 $\\quad\\quad\\;$ 0<br>\n",
    "2 $\\quad\\quad\\quad\\;$        85.0 $\\quad\\quad\\;$ 0<br>\n",
    "3 $\\quad\\quad\\quad\\;$        86.8 $\\quad\\quad\\;$ 0<br>\n",
    "4 $\\quad\\quad\\quad\\;$        88.5 $\\quad\\quad\\;$ 0<br>\n",
    "5 $\\quad\\quad\\quad\\;$        90.2 $\\quad\\quad\\;$ 0<br>\n",
    "6 $\\quad\\quad\\quad\\;$        91.7 $\\quad\\quad\\;$ 0<br>\n",
    "7 $\\quad\\quad\\quad\\;$        93.1 $\\quad\\quad\\;$ 0<br>\n",
    "8 $\\quad\\quad\\quad\\;$        94.3 $\\quad\\quad\\;$ 0<br>\n",
    "9 $\\quad\\quad\\quad\\;$        95.3 $\\quad\\quad\\;$ 3<br>\n",
    "10 $\\quad\\quad\\;\\;\\,\\,$      89.5 $\\quad\\quad\\;$ 3<br>"
   ]
  },
  {
   "cell_type": "markdown",
   "metadata": {
    "deletable": false,
    "editable": false,
    "nbgrader": {
     "cell_type": "markdown",
     "checksum": "167e35e35d0d33a6e9b26413281e4592",
     "grade": false,
     "grade_id": "cell-12976ff0ac11680d",
     "locked": true,
     "schema_version": 3,
     "solution": false
    }
   },
   "source": [
    "In the value iteration algorithm above, a policy is not explicitly maintained until the value function has converged. Below, we have written an identically behaving value iteration algorithm that maintains an updated policy. Writing value iteration in this form makes its relationship to policy iteration more evident. Policy iteration alternates between doing complete greedifications and complete evaluations. On the other hand, value iteration alternates between doing local greedifications and local evaluations. "
   ]
  },
  {
   "cell_type": "code",
   "execution_count": 113,
   "metadata": {
    "deletable": false,
    "editable": false,
    "nbgrader": {
     "cell_type": "code",
     "checksum": "335160bd36744265e1ac43bd4305766b",
     "grade": false,
     "grade_id": "cell-e7940cfb801649be",
     "locked": true,
     "schema_version": 3,
     "solution": false
    }
   },
   "outputs": [],
   "source": [
    "def value_iteration2(env, gamma, theta):\n",
    "    V = np.zeros(len(env.S))\n",
    "    pi = np.ones((len(env.S), len(env.A))) / len(env.A)\n",
    "    while True:\n",
    "        delta = 0\n",
    "        for s in env.S:\n",
    "            v = V[s]\n",
    "            q_greedify_policy(env, V, pi, s, gamma)\n",
    "            bellman_update(env, V, pi, s, gamma)\n",
    "            delta = max(delta, abs(v - V[s]))\n",
    "        if delta < theta:\n",
    "            break\n",
    "    return V, pi"
   ]
  },
  {
   "cell_type": "markdown",
   "metadata": {
    "deletable": false,
    "editable": false,
    "nbgrader": {
     "cell_type": "markdown",
     "checksum": "795713d092ebf77dbe0f17c46d4286cd",
     "grade": false,
     "grade_id": "cell-de841fb4eb290d56",
     "locked": true,
     "schema_version": 3,
     "solution": false
    }
   },
   "source": [
    "You can try the second value iteration algorithm by running the cell below."
   ]
  },
  {
   "cell_type": "code",
   "execution_count": 114,
   "metadata": {
    "deletable": false,
    "editable": false,
    "nbgrader": {
     "cell_type": "code",
     "checksum": "09b1fda9c335946b52cae6c8a55e80fb",
     "grade": false,
     "grade_id": "cell-2ace3a0ae8ee2e72",
     "locked": true,
     "schema_version": 3,
     "solution": false
    }
   },
   "outputs": [
    {
     "data": {
      "image/png": "[encoded data removed]",
      "text/plain": [
       "<Figure size 900x360 with 3 Axes>"
      ]
     },
     "metadata": {},
     "output_type": "display_data"
    }
   ],
   "source": [
    "env = tools.ParkingWorld(num_spaces=10, num_prices=4)\n",
    "gamma = 0.9\n",
    "theta = 0.1\n",
    "V, pi = value_iteration2(env, gamma, theta)\n",
    "tools.plot(V, pi)"
   ]
  },
  {
   "cell_type": "markdown",
   "metadata": {
    "deletable": false,
    "editable": false,
    "nbgrader": {
     "cell_type": "markdown",
     "checksum": "524f8f37d4321a149e999e2af4c10756",
     "grade": false,
     "grade_id": "cell-6025f917f706302b",
     "locked": true,
     "schema_version": 3,
     "solution": false
    }
   },
   "source": [
    "## Wrapping Up\n",
    "Congratulations, you've completed assignment 2! In this assignment, we investigated policy evaluation and policy improvement, policy iteration and value iteration, and Bellman updates. Gridworld City thanks you for your service!"
   ]
  }
 ],
 "metadata": {
  "coursera": {
   "course_slug": "fundamentals-of-reinforcement-learning",
   "graded_item_id": "fvXSL",
   "launcher_item_id": "5z8bz"
  },
  "interpreter": {
   "hash": "cb99eb37772406a29021381fb73408468c6135b334bb8ba77219a2c3f8353b30"
  },
  "kernelspec": {
   "display_name": "Python 3.7.9 ('env_1')",
   "language": "python",
   "name": "python3"
  },
  "language_info": {
   "codemirror_mode": {
    "name": "ipython",
    "version": 3
   },
   "file_extension": ".py",
   "mimetype": "text/x-python",
   "name": "python",
   "nbconvert_exporter": "python",
   "pygments_lexer": "ipython3",
   "version": "3.7.9"
  }
 },
 "nbformat": 4,
 "nbformat_minor": 1
}
